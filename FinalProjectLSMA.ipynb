{
  "nbformat": 4,
  "nbformat_minor": 0,
  "metadata": {
    "colab": {
      "name": "FinalProjectLSMA.ipynb",
      "version": "0.3.2",
      "provenance": [],
      "collapsed_sections": []
    },
    "kernelspec": {
      "name": "python3",
      "display_name": "Python 3"
    }
  },
  "cells": [
    {
      "cell_type": "markdown",
      "metadata": {
        "id": "lDVPKzLA0-dv",
        "colab_type": "text"
      },
      "source": [
        "# Sarcasm Detection in News Headlines Dataset \n",
        "\n"
      ]
    },
    {
      "cell_type": "code",
      "metadata": {
        "id": "qlbs76mjiyJv",
        "colab_type": "code",
        "colab": {}
      },
      "source": [
        "! pip -q install nltk"
      ],
      "execution_count": 0,
      "outputs": []
    },
    {
      "cell_type": "code",
      "metadata": {
        "id": "dbu2rtrw9Igk",
        "colab_type": "code",
        "colab": {}
      },
      "source": [
        "from google.colab import drive\n",
        "drive.mount('/content/gdrive')"
      ],
      "execution_count": 0,
      "outputs": []
    },
    {
      "cell_type": "code",
      "metadata": {
        "id": "tFRExCXD9nq9",
        "colab_type": "code",
        "colab": {}
      },
      "source": [
        "!ls '/content/gdrive/My Drive'\n",
        "path = '/content/gdrive/My Drive/'"
      ],
      "execution_count": 0,
      "outputs": []
    },
    {
      "cell_type": "code",
      "metadata": {
        "id": "vDOU_1URzSCD",
        "colab_type": "code",
        "colab": {}
      },
      "source": [
        "import pandas as pd\n",
        "import nltk\n",
        "import matplotlib.pyplot as plt\n",
        "nltk.download('punkt')\n",
        "\n",
        "df = pd.read_json(path+\"Sarcasm_Headlines_Dataset.json\", lines=True)\n"
      ],
      "execution_count": 0,
      "outputs": []
    },
    {
      "cell_type": "markdown",
      "metadata": {
        "id": "TEhT7ZEemEMu",
        "colab_type": "text"
      },
      "source": [
        "# 1. Data cleaning"
      ]
    },
    {
      "cell_type": "code",
      "metadata": {
        "id": "HwHw0wBTlG5b",
        "colab_type": "code",
        "colab": {}
      },
      "source": [
        "df.head()"
      ],
      "execution_count": 0,
      "outputs": []
    },
    {
      "cell_type": "code",
      "metadata": {
        "id": "vzxkjUJ0z88R",
        "colab_type": "code",
        "colab": {}
      },
      "source": [
        "df.columns"
      ],
      "execution_count": 0,
      "outputs": []
    },
    {
      "cell_type": "markdown",
      "metadata": {
        "id": "YOI2jorbFz_A",
        "colab_type": "text"
      },
      "source": [
        "Check non valid elements:"
      ]
    },
    {
      "cell_type": "code",
      "metadata": {
        "id": "FSan8YJW_7C-",
        "colab_type": "code",
        "colab": {}
      },
      "source": [
        "# Null elements:\n",
        "v= df.is_sarcastic.isnull().sum()\n",
        "print('Number of null elements in is_sarcastic is ',v)\n",
        "v = (df.headline=='').sum()\n",
        "print('Number of null elements in headline is ',v)"
      ],
      "execution_count": 0,
      "outputs": []
    },
    {
      "cell_type": "code",
      "metadata": {
        "id": "6vV7blcfBQHZ",
        "colab_type": "code",
        "colab": {}
      },
      "source": [
        "count_huf = 0\n",
        "count_oni = 0\n",
        "indices = list()\n",
        "for ind,link in enumerate(df.article_link):\n",
        "  if ('huffingtonpost' in link) and df.is_sarcastic[ind]==1:\n",
        "    count_huf += 1\n",
        "  elif ('theonion' in link) and df.is_sarcastic[ind]==0:\n",
        "    count_oni += 1\n",
        "    indices.append(ind)\n",
        "print('Articles from Huffington post and are sarcastic: ',count_huf)\n",
        "print('Articles from The onion and non sarcastic',count_oni)"
      ],
      "execution_count": 0,
      "outputs": []
    },
    {
      "cell_type": "code",
      "metadata": {
        "id": "tmbpp3QJeZrA",
        "colab_type": "code",
        "colab": {}
      },
      "source": [
        "#Let's see that article from \"The onion\" which is not sarcastic: \n",
        "print(df.loc[indices,:])"
      ],
      "execution_count": 0,
      "outputs": []
    },
    {
      "cell_type": "markdown",
      "metadata": {
        "id": "PsNO9PlGjITE",
        "colab_type": "text"
      },
      "source": [
        "As we can see the link article is not a correct link. Moreover, all the articles from 'The onion' are set as sarcastic since this is the premise of this webpage. We think that the appereance of the name huffington has confused the classification of sarcasm. Therefore, we have decided to chang this article to sarcastic. "
      ]
    },
    {
      "cell_type": "code",
      "metadata": {
        "id": "4iICNTiPj--M",
        "colab_type": "code",
        "colab": {}
      },
      "source": [
        "df.loc[indices,'is_sarcastic'] = 1\n",
        "df.loc[indices,'article_link'] ='https://www.theonion.com/do-you-know-why-i-m-pulling-you-over-being-wildly-aggr-1819584995'"
      ],
      "execution_count": 0,
      "outputs": []
    },
    {
      "cell_type": "markdown",
      "metadata": {
        "id": "8vYXsr2m0apE",
        "colab_type": "text"
      },
      "source": [
        "#2. Exploratory Data Analysis"
      ]
    },
    {
      "cell_type": "markdown",
      "metadata": {
        "id": "AAz-unztBngc",
        "colab_type": "text"
      },
      "source": [
        "## Class balance"
      ]
    },
    {
      "cell_type": "markdown",
      "metadata": {
        "id": "MXIH_4eGmp4h",
        "colab_type": "text"
      },
      "source": [
        "For the machine learning modelling it is important to check if the classes are balanced or not. "
      ]
    },
    {
      "cell_type": "code",
      "metadata": {
        "id": "IMmmOeBiEJUG",
        "colab_type": "code",
        "colab": {}
      },
      "source": [
        "df['is_sarcastic']. value_counts()"
      ],
      "execution_count": 0,
      "outputs": []
    },
    {
      "cell_type": "code",
      "metadata": {
        "id": "NF79Nk5EDJ1a",
        "colab_type": "code",
        "colab": {}
      },
      "source": [
        "\n",
        "x = [0,1]\n",
        "height =[sum(df.is_sarcastic==0)/len(df.is_sarcastic),sum(df.is_sarcastic==1)/len(df.is_sarcastic)]\n",
        "plt.bar(x, height, width=0.8, bottom=None, align='center',tick_label = ['0','1'])\n",
        "plt.title('Percetage of headlines per class')"
      ],
      "execution_count": 0,
      "outputs": []
    },
    {
      "cell_type": "code",
      "metadata": {
        "id": "gCiVzuEVcvp4",
        "colab_type": "code",
        "colab": {}
      },
      "source": [
        "percentage = sum(df.is_sarcastic==1)/len(df.is_sarcastic)\n",
        "print('The percentage of sarcasms over the total is {0:.2f} and non-sarcasms is {1:.2f}'.format(percentage,1-percentage))"
      ],
      "execution_count": 0,
      "outputs": []
    },
    {
      "cell_type": "markdown",
      "metadata": {
        "id": "p6reVIf6Gxni",
        "colab_type": "text"
      },
      "source": [
        "These percentages are more or less compensated so we do not to worry about it.   "
      ]
    },
    {
      "cell_type": "markdown",
      "metadata": {
        "id": "SCi_H9SXur8x",
        "colab_type": "text"
      },
      "source": [
        "## Most common words\n"
      ]
    },
    {
      "cell_type": "code",
      "metadata": {
        "id": "2St2HW7uI6LJ",
        "colab_type": "code",
        "colab": {}
      },
      "source": [
        "all_words = df['headline'].str.split(expand=True).unstack().value_counts()\n",
        "\n",
        "x = all_words.index.values[0:40]\n",
        "y = all_words.values[0:40]\n",
        "\n",
        "plt.figure(figsize = (8,4) )\n",
        "plt.bar(x,y,orientation='vertical', width = 0.5)\n",
        "plt.title('Frequent Occuring word in Headlines')\n",
        "plt.xticks(x, rotation='vertical',fontsize='medium')\n",
        "plt.show()"
      ],
      "execution_count": 0,
      "outputs": []
    },
    {
      "cell_type": "markdown",
      "metadata": {
        "id": "dySpTb_frwoR",
        "colab_type": "text"
      },
      "source": [
        "## Analysis of the number of words per headline"
      ]
    },
    {
      "cell_type": "markdown",
      "metadata": {
        "id": "l_v0QhoeKurG",
        "colab_type": "text"
      },
      "source": [
        "Correlation between sarcasm and number of words in the headline:"
      ]
    },
    {
      "cell_type": "code",
      "metadata": {
        "id": "ChRdEWPEIBXF",
        "colab_type": "code",
        "colab": {}
      },
      "source": [
        "df['len'] = df['headline'].apply(lambda x: len(x.split(\" \")))\n",
        "df.head()"
      ],
      "execution_count": 0,
      "outputs": []
    },
    {
      "cell_type": "code",
      "metadata": {
        "id": "NP2TsJdxJVVq",
        "colab_type": "code",
        "colab": {}
      },
      "source": [
        "import random\n",
        "\n",
        "x = df.len[df.is_sarcastic == 0]\n",
        "y = df.len[df.is_sarcastic == 1]\n",
        "\n",
        "\n",
        "plt.hist(x, alpha=0.5, label='Not sarcastic',density = True )\n",
        "plt.hist(y, alpha=0.5, label='Sarcastic',density = True)\n",
        "plt.legend(loc='upper right')\n",
        "plt.show()"
      ],
      "execution_count": 0,
      "outputs": []
    },
    {
      "cell_type": "markdown",
      "metadata": {
        "id": "VDrwu8QgLCJd",
        "colab_type": "text"
      },
      "source": [
        "In the histogram above we can see that the length of the headline is not related with being sarcastic or not. "
      ]
    },
    {
      "cell_type": "code",
      "metadata": {
        "id": "Z6zeWtyXLs4X",
        "colab_type": "code",
        "colab": {}
      },
      "source": [
        "df.len.describe()"
      ],
      "execution_count": 0,
      "outputs": []
    },
    {
      "cell_type": "markdown",
      "metadata": {
        "id": "wrreb2RlONwS",
        "colab_type": "text"
      },
      "source": [
        "We have checked the headline with the maximum and minimum number of words to see if they are correct. We can see them plotted below and they look correct."
      ]
    },
    {
      "cell_type": "code",
      "metadata": {
        "id": "KhNOJTaFMBsx",
        "colab_type": "code",
        "colab": {}
      },
      "source": [
        "headline_1=list(df[df.len == 39].headline)\n",
        "\n",
        "print(headline_1)"
      ],
      "execution_count": 0,
      "outputs": []
    },
    {
      "cell_type": "code",
      "metadata": {
        "id": "DHlbw4QJNmv4",
        "colab_type": "code",
        "colab": {}
      },
      "source": [
        "print(list(df[df.len == 2].headline))\n"
      ],
      "execution_count": 0,
      "outputs": []
    },
    {
      "cell_type": "markdown",
      "metadata": {
        "id": "yprRyaxQszO7",
        "colab_type": "text"
      },
      "source": [
        "# 3.Natural language processing"
      ]
    },
    {
      "cell_type": "code",
      "metadata": {
        "id": "pxOpGyPz2k8O",
        "colab_type": "code",
        "colab": {}
      },
      "source": [
        "print('{0}'.format(df['headline'][0]))"
      ],
      "execution_count": 0,
      "outputs": []
    },
    {
      "cell_type": "markdown",
      "metadata": {
        "id": "VUjMW_9UZJqg",
        "colab_type": "text"
      },
      "source": [
        "## Convert to lower case and tokenize"
      ]
    },
    {
      "cell_type": "code",
      "metadata": {
        "id": "P0qvqH04szj2",
        "colab_type": "code",
        "colab": {}
      },
      "source": [
        "# Convert to lower case\n",
        "df['headpro'] = pd.Series(df['headline'].apply(lambda x: x.lower()), index=df.index)\n",
        "print('{0}'.format(df['headpro'][0]))"
      ],
      "execution_count": 0,
      "outputs": []
    },
    {
      "cell_type": "code",
      "metadata": {
        "id": "bvzY120M38tk",
        "colab_type": "code",
        "colab": {}
      },
      "source": [
        "# Tokenize\n",
        "df['headpro'] = df['headpro'].apply(lambda x: nltk.word_tokenize(x))\n",
        "print('{0}'.format(df['headpro'][0]))"
      ],
      "execution_count": 0,
      "outputs": []
    },
    {
      "cell_type": "code",
      "metadata": {
        "id": "coy8sHPjbCrE",
        "colab_type": "code",
        "colab": {}
      },
      "source": [
        "print('{0}'.format(df['headpro'][16]))"
      ],
      "execution_count": 0,
      "outputs": []
    },
    {
      "cell_type": "markdown",
      "metadata": {
        "id": "QQD89fRyF81Y",
        "colab_type": "text"
      },
      "source": [
        "## Remove stopwords"
      ]
    },
    {
      "cell_type": "markdown",
      "metadata": {
        "id": "5YdyfkEffiiY",
        "colab_type": "text"
      },
      "source": [
        "We are going to remove from the headlines the stopwords of the list below. As we can see, the words with contractions are going to be removed so we do not need to worry about expanding them or not."
      ]
    },
    {
      "cell_type": "code",
      "metadata": {
        "id": "GvilgiF68wE8",
        "colab_type": "code",
        "colab": {}
      },
      "source": [
        "import nltk\n",
        "nltk.download('stopwords')\n",
        "stopwords = nltk.corpus.stopwords.words('english')+[\"n't\"]\n",
        "for i,lista in enumerate(df.headpro):\n",
        "  lista = [word for word in lista if word.lower() not in stopwords]\n",
        "  df.at[i,'headpro'] = lista\n"
      ],
      "execution_count": 0,
      "outputs": []
    },
    {
      "cell_type": "code",
      "metadata": {
        "id": "jSX8r4sxfnGR",
        "colab_type": "code",
        "colab": {}
      },
      "source": [
        "print(\"didn't\"in stopwords)"
      ],
      "execution_count": 0,
      "outputs": []
    },
    {
      "cell_type": "code",
      "metadata": {
        "id": "NRyy5dUumMPa",
        "colab_type": "code",
        "colab": {}
      },
      "source": [
        "print('ORIGINAL: {0}'.format(df['headline'][16].split()))\n",
        "print('TRANSFORMED: {0}'.format(df['headpro'][16]))"
      ],
      "execution_count": 0,
      "outputs": []
    },
    {
      "cell_type": "markdown",
      "metadata": {
        "id": "Edz6xjtUYkcd",
        "colab_type": "text"
      },
      "source": [
        "## Remove punctuation"
      ]
    },
    {
      "cell_type": "code",
      "metadata": {
        "id": "KQJvshSwYNAR",
        "colab_type": "code",
        "colab": {}
      },
      "source": [
        "import string\n",
        "print(string.punctuation)"
      ],
      "execution_count": 0,
      "outputs": []
    },
    {
      "cell_type": "code",
      "metadata": {
        "id": "HoAxYy_wW1_V",
        "colab_type": "code",
        "colab": {}
      },
      "source": [
        "punctuation = \"!,#$()*+,-:;<=>?@[\\]'^_`.{|}~%\"+'\"'\n",
        "# Remove punctuation\n",
        "\n",
        "import string\n",
        "table = str.maketrans(punctuation, ' '*len(punctuation))\n",
        "\n",
        "for i,lista in enumerate(df.headpro):\n",
        "  lista = [w.translate(table) for w in lista]\n",
        "  lista1=' '.join(lista)\n",
        "  lista1=lista1.split()\n",
        "  df.at[i,'headpro'] = lista1\n"
      ],
      "execution_count": 0,
      "outputs": []
    },
    {
      "cell_type": "code",
      "metadata": {
        "id": "GSsL9COhS3_W",
        "colab_type": "code",
        "colab": {}
      },
      "source": [
        "\n",
        "print('ORIGINAL: {0}'.format(df['headline'][16].split()))\n",
        "print('TRANSFORMED: {0}'.format(df['headpro'][16]))"
      ],
      "execution_count": 0,
      "outputs": []
    },
    {
      "cell_type": "markdown",
      "metadata": {
        "id": "lX45PZE4FN_x",
        "colab_type": "text"
      },
      "source": [
        "## Bigrams"
      ]
    },
    {
      "cell_type": "code",
      "metadata": {
        "id": "XIHZLZP8EpK4",
        "colab_type": "code",
        "colab": {}
      },
      "source": [
        "#create bigrams\n",
        "pairs = []\n",
        "for item in df.headline:\n",
        "  big=list(nltk.bigrams(item.split()))\n",
        "  for tple in big:\n",
        "    pairs.append(' '.join(tple))\n",
        "    "
      ],
      "execution_count": 0,
      "outputs": []
    },
    {
      "cell_type": "code",
      "metadata": {
        "id": "jzTFS2wcGhNE",
        "colab_type": "code",
        "colab": {}
      },
      "source": [
        "# find most comun bigrams\n",
        "from itertools import cycle, islice\n",
        "\n",
        "pairs = []\n",
        "for item in df.headline:\n",
        "  big=list(nltk.bigrams(item.split()))\n",
        "  for tple in big:\n",
        "    pairs.append(' '.join(tple))\n",
        "\n",
        "pairs=pd.Series(pairs)\n",
        "all_words=pairs.value_counts()\n",
        "\n",
        "a = 30\n",
        "x = all_words.index.values[0:a]\n",
        "y = all_words.values[0:a]\n",
        "\n",
        "plt.figure(figsize = (8,8) )\n",
        "my_colors = [(x/(a), x/(a*3), 0.6) for x in range(a)]\n",
        "\n",
        "plt.barh(x,y,height  = 0.5,color=my_colors)\n",
        "plt.title('Frequent Occuring bigrams')\n",
        "\n",
        "plt.show()"
      ],
      "execution_count": 0,
      "outputs": []
    },
    {
      "cell_type": "markdown",
      "metadata": {
        "id": "1YFUn2lrNGWC",
        "colab_type": "text"
      },
      "source": [
        "### Remove stopwords"
      ]
    },
    {
      "cell_type": "code",
      "metadata": {
        "id": "tteFIJASNmVA",
        "colab_type": "code",
        "colab": {}
      },
      "source": [
        "df.headpro.head(10)"
      ],
      "execution_count": 0,
      "outputs": []
    },
    {
      "cell_type": "code",
      "metadata": {
        "id": "iYLGQLZNNFDq",
        "colab_type": "code",
        "colab": {}
      },
      "source": [
        "from itertools import cycle, islice\n",
        "\n",
        "pairs = []\n",
        "for item in df.headpro:\n",
        "  big=list(nltk.bigrams(item))\n",
        "  for tple in big:\n",
        "    pairs.append(' '.join(tple))\n",
        "    \n",
        "pairs=pd.Series(pairs)\n",
        "all_words=pairs.value_counts()\n",
        "\n",
        "a = 30\n",
        "xx = all_words.index.values[0:a]\n",
        "y = all_words.values[0:a]\n",
        "\n",
        "plt.figure(figsize = (8,8) )\n",
        "my_colors = [(x/(a), x/(a*3), 0.6) for x in range(a)]\n",
        "\n",
        "plt.barh(xx,y,height  = 0.5,color=my_colors)\n",
        "plt.title('Frequent Occuring bigrams without stopwords')\n",
        "\n",
        "plt.show()"
      ],
      "execution_count": 0,
      "outputs": []
    },
    {
      "cell_type": "markdown",
      "metadata": {
        "id": "x8CM_SWvpGLV",
        "colab_type": "text"
      },
      "source": [
        "### Remove the \"s\" from the possessive 's"
      ]
    },
    {
      "cell_type": "code",
      "metadata": {
        "id": "PDKMHnGkpCfk",
        "colab_type": "code",
        "colab": {}
      },
      "source": [
        "for i,lista in enumerate(df.headpro):\n",
        "  for i,word in enumerate(lista):\n",
        "    if i<(len(lista)-1)and lista[i].lower() == \"u\" and lista[i+1].lower()== \"s\":\n",
        "      lista[i]=\"us\"\n",
        "      \n",
        "for i,lista in enumerate(df.headpro):\n",
        "  lista = [word for word in lista if word.lower()!=\"s\"]\n",
        "  df.at[i,'headpro'] = lista"
      ],
      "execution_count": 0,
      "outputs": []
    },
    {
      "cell_type": "code",
      "metadata": {
        "id": "X-LSL27dpLH3",
        "colab_type": "code",
        "colab": {}
      },
      "source": [
        "from itertools import cycle, islice\n",
        "\n",
        "pairs = []\n",
        "for item in df.headpro:\n",
        "  big=list(nltk.bigrams(item))\n",
        "  for tple in big:\n",
        "    pairs.append(' '.join(tple))\n",
        "    \n",
        "pairs=pd.Series(pairs)\n",
        "all_words=pairs.value_counts()\n",
        "\n",
        "a = 30\n",
        "xx = all_words.index.values[0:a]\n",
        "y = all_words.values[0:a]\n",
        "\n",
        "plt.figure(figsize = (10,10) )\n",
        "my_colors = [(x/(a), x/(a*3), 0.6) for x in range(a)]\n",
        "\n",
        "plt.barh(xx,y,height  = 0.5,color=my_colors)\n",
        "plt.title('Frequent Occuring bigrams without stopwords nor \"s\"')\n",
        "\n",
        "plt.show()"
      ],
      "execution_count": 0,
      "outputs": []
    },
    {
      "cell_type": "code",
      "metadata": {
        "id": "bJPpF4V8Cask",
        "colab_type": "code",
        "colab": {}
      },
      "source": [
        "#df.to_csv(path+'datos.csv')"
      ],
      "execution_count": 0,
      "outputs": []
    },
    {
      "cell_type": "markdown",
      "metadata": {
        "id": "fL9-_ii7xq0s",
        "colab_type": "text"
      },
      "source": [
        "### Find most comun bigram pers class"
      ]
    },
    {
      "cell_type": "code",
      "metadata": {
        "id": "e8n3Qm5Du5ZA",
        "colab_type": "code",
        "colab": {}
      },
      "source": [
        "from itertools import cycle, islice\n",
        "\n",
        "pairs = []\n",
        "for item in df.headpro[df.is_sarcastic==0]:\n",
        "  big=list(nltk.bigrams(item))\n",
        "  for tple in big:\n",
        "    pairs.append(' '.join(tple))\n",
        "    \n",
        "pairs=pd.Series(pairs)\n",
        "all_words=pairs.value_counts()\n",
        "\n",
        "a = 15\n",
        "x_0 = all_words.index.values[0:a]\n",
        "y = all_words.values[0:a]\n",
        "\n",
        "f = plt.figure( figsize = (20,10) )\n",
        "my_colors = [(x/(a), x/(a*3), 0.6) for x in range(a)]\n",
        "\n",
        "f.add_subplot(1,2,1)\n",
        "plt.barh(x_0,y,height  = 0.5,color=my_colors)\n",
        "plt.title('Frequent Occuring clean bigrams in not sacastic headlines')\n",
        "\n",
        "\n",
        "\n",
        "pairs = []\n",
        "for item in df.headpro[df.is_sarcastic==1]:\n",
        "  big=list(nltk.bigrams(item))\n",
        "  for tple in big:\n",
        "    pairs.append(' '.join(tple))\n",
        "    \n",
        "pairs=pd.Series(pairs)\n",
        "all_words=pairs.value_counts()\n",
        "\n",
        "a = 15\n",
        "x_1 = all_words.index.values[0:a]\n",
        "y = all_words.values[0:a]\n",
        "\n",
        "f.add_subplot(1,2,2)\n",
        "my_colors = [(x/(a), x/(a*3), 0.6) for x in range(a)]\n",
        "\n",
        "plt.barh(x_1,y,height  = 0.5,color=my_colors)\n",
        "plt.title('Frequent Occuring clean bigrams in sarcastic headlines')\n",
        "\n",
        "\n",
        "plt.show()\n",
        "\n",
        "\n"
      ],
      "execution_count": 0,
      "outputs": []
    },
    {
      "cell_type": "code",
      "metadata": {
        "id": "1GHD9UNlKP__",
        "colab_type": "code",
        "colab": {}
      },
      "source": [
        "type(pairs)"
      ],
      "execution_count": 0,
      "outputs": []
    },
    {
      "cell_type": "markdown",
      "metadata": {
        "id": "S_o9H1wTzLFl",
        "colab_type": "text"
      },
      "source": [
        "### transform commun bigrams in words"
      ]
    },
    {
      "cell_type": "markdown",
      "metadata": {
        "id": "0suFahz8zPsF",
        "colab_type": "text"
      },
      "source": [
        ""
      ]
    },
    {
      "cell_type": "code",
      "metadata": {
        "id": "xyHnOZLY0No_",
        "colab_type": "code",
        "colab": {}
      },
      "source": [
        "import numpy as np\n",
        "bigrams=list(set(np.append(np.append(xx,x_0),x_1)))\n",
        "for x in['releases new','morning email','need know','new study','first time','historical archives','unveils new', 'introduces new','trump administration','year old']:\n",
        "  bigrams.remove(x) \n",
        "  \n",
        "bigrams.append('barack obama')\n",
        "\n",
        "bigrams"
      ],
      "execution_count": 0,
      "outputs": []
    },
    {
      "cell_type": "markdown",
      "metadata": {
        "id": "fjM6BuceVdpp",
        "colab_type": "text"
      },
      "source": [
        "### incorporate commun bigrams in headlines"
      ]
    },
    {
      "cell_type": "code",
      "metadata": {
        "id": "af20YOtcD_0O",
        "colab_type": "code",
        "colab": {}
      },
      "source": [
        "\n",
        "\n",
        "for item in df.headpro:\n",
        "  for i in range (0,len(item)-1):\n",
        "    b=' '.join([item[i], item[i+1]])\n",
        "    if i<len(item) and b in bigrams:\n",
        "      item[i]=b;\n",
        "      item[i+1]=\"to_remove\"\n",
        "      \n",
        "for i,lista in enumerate(df.headpro):\n",
        "  lista = [word for word in lista if word.lower()!=\"to_remove\"]\n",
        "  df.at[i,'headpro'] = lista\n",
        "\n",
        "  \n",
        "\n"
      ],
      "execution_count": 0,
      "outputs": []
    },
    {
      "cell_type": "markdown",
      "metadata": {
        "id": "3PX2vLexViHj",
        "colab_type": "text"
      },
      "source": [
        "### merge words and bigram: case of 'trump' and 'donald trump'"
      ]
    },
    {
      "cell_type": "code",
      "metadata": {
        "id": "k2ZGN18iQb5D",
        "colab_type": "code",
        "colab": {}
      },
      "source": [
        "# join trump and donald trump\n",
        "for item in df.headpro:\n",
        "  for i,word in enumerate(item):\n",
        "    if word=='trump':\n",
        "      item[i]='donald trump'\n",
        "    elif word=='obama':\n",
        "      item[i]='barack obama'"
      ],
      "execution_count": 0,
      "outputs": []
    },
    {
      "cell_type": "markdown",
      "metadata": {
        "id": "8plTOlx1hPRW",
        "colab_type": "text"
      },
      "source": [
        "## Lemmatization"
      ]
    },
    {
      "cell_type": "code",
      "metadata": {
        "id": "qbEQCoSMWJ40",
        "colab_type": "code",
        "colab": {}
      },
      "source": [
        "nltk.download('wordnet')"
      ],
      "execution_count": 0,
      "outputs": []
    },
    {
      "cell_type": "code",
      "metadata": {
        "id": "5rKhPLX2MuFU",
        "colab_type": "code",
        "colab": {}
      },
      "source": [
        "from nltk.stem import WordNetLemmatizer\n",
        "lemm = WordNetLemmatizer()\n",
        "\n",
        "for item in df.headpro:\n",
        "  for i,word in enumerate(item):\n",
        "    if word !='us':\n",
        "      item[i]=lemm.lemmatize(word)\n"
      ],
      "execution_count": 0,
      "outputs": []
    },
    {
      "cell_type": "markdown",
      "metadata": {
        "id": "J6kUGiM_hFvA",
        "colab_type": "text"
      },
      "source": [
        "## Convert digits to words"
      ]
    },
    {
      "cell_type": "code",
      "metadata": {
        "id": "I6BD06iNWCoW",
        "colab_type": "code",
        "colab": {}
      },
      "source": [
        "print(type(df.headpro[0]))"
      ],
      "execution_count": 0,
      "outputs": []
    },
    {
      "cell_type": "code",
      "metadata": {
        "id": "0GU2EVIfOOOc",
        "colab_type": "code",
        "colab": {}
      },
      "source": [
        "!pip install num2words"
      ],
      "execution_count": 0,
      "outputs": []
    },
    {
      "cell_type": "markdown",
      "metadata": {
        "id": "UoirYPxyLIQb",
        "colab_type": "text"
      },
      "source": [
        ""
      ]
    },
    {
      "cell_type": "code",
      "metadata": {
        "id": "CxgeF0s2hFAP",
        "colab_type": "code",
        "colab": {}
      },
      "source": [
        "import num2words as n2w\n",
        "def num_to_words(tokens, lang='en'):\n",
        "    return [n2w.num2words(int(token), lang=lang) if token.isdigit() else token for token in tokens]\n",
        "  \n",
        "for i,lista in enumerate(df.headpro):\n",
        "  df.at[i,'headpro']  = num_to_words(lista)\n",
        "  \n",
        "\n",
        "print('ORIGINAL: {0}'.format(df['headline'][71]))\n",
        "print('TRANSFORMED: {0}'.format(df['headpro'][71]))"
      ],
      "execution_count": 0,
      "outputs": []
    },
    {
      "cell_type": "markdown",
      "metadata": {
        "id": "gzl3K2qlXVpX",
        "colab_type": "text"
      },
      "source": [
        "# 4.Training\n"
      ]
    },
    {
      "cell_type": "markdown",
      "metadata": {
        "id": "Z6JMgLoQZABL",
        "colab_type": "text"
      },
      "source": [
        "## Bag of words"
      ]
    },
    {
      "cell_type": "markdown",
      "metadata": {
        "id": "eYe0UC5TFzxj",
        "colab_type": "text"
      },
      "source": [
        "### Most common words after processing"
      ]
    },
    {
      "cell_type": "code",
      "metadata": {
        "id": "HQvyovZNKB07",
        "colab_type": "code",
        "colab": {}
      },
      "source": [
        "type(all_words)"
      ],
      "execution_count": 0,
      "outputs": []
    },
    {
      "cell_type": "code",
      "metadata": {
        "id": "gMxWwFGC4ZO-",
        "colab_type": "code",
        "colab": {}
      },
      "source": [
        "from itertools import cycle, islice\n",
        "all_words=pd.Series(sum([item for item in  df.headpro[df.is_sarcastic==0] ], [])).value_counts()\n",
        "\n",
        "a = 30\n",
        "x = all_words.index.values[0:a]\n",
        "y = all_words.values[0:a]\n",
        "\n",
        "f = plt.figure( figsize = (20,10) )\n",
        "my_colors = [(x/(a), x/(a*3), 0.6) for x in range(a)]\n",
        "\n",
        "f.add_subplot(1,2,1)\n",
        "plt.barh(x,y,height  = 0.5,color=my_colors)\n",
        "plt.title('Frequent Occuring word in non-sarcastic headlines')\n",
        "\n",
        "\n",
        "all_words = all_words=pd.Series(sum([item for item in  df.headpro[df.is_sarcastic==1] ], [])).value_counts()\n",
        "\n",
        "a = 30\n",
        "x = all_words.index.values[0:a]\n",
        "y = all_words.values[0:a]\n",
        "\n",
        "f.add_subplot(1,2,2)\n",
        "my_colors = [(x/(a), x/(a*3), 0.6) for x in range(a)]\n",
        "\n",
        "plt.barh(x,y,height  = 0.5,color=my_colors)\n",
        "plt.title('Frequent Occuring word in sarcastic headlines')\n",
        "\n",
        "\n",
        "plt.show()"
      ],
      "execution_count": 0,
      "outputs": []
    },
    {
      "cell_type": "code",
      "metadata": {
        "id": "Suyj7TPMRlAS",
        "colab_type": "code",
        "colab": {}
      },
      "source": [
        "words = \" \"\n",
        "for item in df.headpro:\n",
        "    for inner_item in item:\n",
        "        words+=inner_item+\" \"\n",
        "        \n",
        "from wordcloud import WordCloud, STOPWORDS \n",
        "stopwords = set(STOPWORDS) \n",
        "wordcloud = WordCloud(width = 800, height = 800, \n",
        "                background_color ='white', \n",
        "                stopwords = stopwords, \n",
        "                min_font_size = 10).generate(words) \n",
        "  \n",
        "# plot the WordCloud image                        \n",
        "plt.figure(figsize = (8, 8), facecolor = None) \n",
        "plt.imshow(wordcloud) \n",
        "plt.axis(\"off\") \n",
        "plt.tight_layout(pad = 0) \n",
        "  \n",
        "plt.show() "
      ],
      "execution_count": 0,
      "outputs": []
    },
    {
      "cell_type": "markdown",
      "metadata": {
        "id": "iCHpTnQPXZQd",
        "colab_type": "text"
      },
      "source": [
        "### bag of words"
      ]
    },
    {
      "cell_type": "code",
      "metadata": {
        "id": "NubkcYUlFtSq",
        "colab_type": "code",
        "colab": {}
      },
      "source": [
        "from itertools import cycle, islice\n",
        "\n",
        "dictionary=pd.Series(sum([item for item in df.headpro ], [])).value_counts()\n",
        "\n",
        "a = 30\n",
        "x = dictionary.index.values[0:a]\n",
        "y = dictionary.values[0:a]\n",
        "\n",
        "plt.figure(figsize = (8,8) )\n",
        "my_colors = [(x/(a), x/(a*3), 0.6) for x in range(a)]\n",
        "\n",
        "plt.barh(x,y,height  = 0.5,color=my_colors)\n",
        "plt.title('Frequent Occuring word in Headlines without stopwords')\n",
        "\n",
        "plt.show()"
      ],
      "execution_count": 0,
      "outputs": []
    },
    {
      "cell_type": "code",
      "metadata": {
        "id": "3p7sdL5tX-sl",
        "colab_type": "code",
        "colab": {}
      },
      "source": [
        "len(dictionary)"
      ],
      "execution_count": 0,
      "outputs": []
    },
    {
      "cell_type": "code",
      "metadata": {
        "id": "18VZvr1PNhYt",
        "colab_type": "code",
        "colab": {}
      },
      "source": [
        "df.head()"
      ],
      "execution_count": 0,
      "outputs": []
    },
    {
      "cell_type": "code",
      "metadata": {
        "id": "SBo45S_0Pxoe",
        "colab_type": "code",
        "colab": {}
      },
      "source": [
        "type(dictionary)\n",
        "small_dict=dictionary[dictionary.values>3]\n",
        "#small_dict=dictionary\n",
        "len(small_dict)"
      ],
      "execution_count": 0,
      "outputs": []
    },
    {
      "cell_type": "code",
      "metadata": {
        "id": "SsoaIkP918GQ",
        "colab_type": "code",
        "colab": {}
      },
      "source": [
        "print(small_dict.index)"
      ],
      "execution_count": 0,
      "outputs": []
    },
    {
      "cell_type": "markdown",
      "metadata": {
        "id": "BPAPFCAip0Xf",
        "colab_type": "text"
      },
      "source": [
        "#CHECKPOINT"
      ]
    },
    {
      "cell_type": "code",
      "metadata": {
        "id": "XbNRq3eFagCn",
        "colab_type": "code",
        "colab": {}
      },
      "source": [
        "def bagOfWords(headline):\n",
        "  bag=np.zeros(len(small_dict),dtype=int)\n",
        "  for i,word in enumerate(small_dict.index):\n",
        "    for item in headline:\n",
        "      if item==word:\n",
        "        bag[i]+=1\n",
        "  return(list(bag))\n",
        " \n",
        "df['bag of words'] = pd.Series(df['headpro'].apply(lambda x: bagOfWords(x)), index=df.index)"
      ],
      "execution_count": 0,
      "outputs": []
    },
    {
      "cell_type": "code",
      "metadata": {
        "id": "kIjclF9Ghq-n",
        "colab_type": "code",
        "colab": {}
      },
      "source": [
        "df.to_json(path+'finaldata22000.json')\n"
      ],
      "execution_count": 0,
      "outputs": []
    },
    {
      "cell_type": "code",
      "metadata": {
        "id": "jKeJZ44rKoMt",
        "colab_type": "code",
        "colab": {}
      },
      "source": [
        ""
      ],
      "execution_count": 0,
      "outputs": []
    },
    {
      "cell_type": "code",
      "metadata": {
        "id": "FAcmhtDUR2wA",
        "colab_type": "code",
        "outputId": "3a4c4c12-4e2f-4532-cf6d-efc0ac6e5c4b",
        "colab": {
          "base_uri": "https://localhost:8080/",
          "height": 293
        }
      },
      "source": [
        "import pandas as pd\n",
        "\n",
        "df2= pd.read_json(path+'finaldata22000.json')\n",
        "\n",
        "df2.head()"
      ],
      "execution_count": 0,
      "outputs": [
        {
          "output_type": "execute_result",
          "data": {
            "text/html": [
              "<div>\n",
              "<style scoped>\n",
              "    .dataframe tbody tr th:only-of-type {\n",
              "        vertical-align: middle;\n",
              "    }\n",
              "\n",
              "    .dataframe tbody tr th {\n",
              "        vertical-align: top;\n",
              "    }\n",
              "\n",
              "    .dataframe thead th {\n",
              "        text-align: right;\n",
              "    }\n",
              "</style>\n",
              "<table border=\"1\" class=\"dataframe\">\n",
              "  <thead>\n",
              "    <tr style=\"text-align: right;\">\n",
              "      <th></th>\n",
              "      <th>article_link</th>\n",
              "      <th>headline</th>\n",
              "      <th>is_sarcastic</th>\n",
              "      <th>len</th>\n",
              "      <th>headpro</th>\n",
              "      <th>bag of words</th>\n",
              "    </tr>\n",
              "  </thead>\n",
              "  <tbody>\n",
              "    <tr>\n",
              "      <th>0</th>\n",
              "      <td>https://www.huffingtonpost.com/entry/versace-b...</td>\n",
              "      <td>former versace store clerk sues over secret 'b...</td>\n",
              "      <td>0</td>\n",
              "      <td>12</td>\n",
              "      <td>[former, versace, store, clerk, sue, secret, b...</td>\n",
              "      <td>[0, 0, 0, 0, 0, 0, 0, 0, 0, 0, 0, 0, 0, 0, 0, ...</td>\n",
              "    </tr>\n",
              "    <tr>\n",
              "      <th>1</th>\n",
              "      <td>https://www.huffingtonpost.com/entry/roseanne-...</td>\n",
              "      <td>the 'roseanne' revival catches up to our thorn...</td>\n",
              "      <td>0</td>\n",
              "      <td>14</td>\n",
              "      <td>[roseanne, revival, catch, thorny, political, ...</td>\n",
              "      <td>[0, 0, 0, 0, 0, 0, 0, 0, 0, 0, 0, 0, 0, 0, 0, ...</td>\n",
              "    </tr>\n",
              "    <tr>\n",
              "      <th>10</th>\n",
              "      <td>https://www.huffingtonpost.com/entry/airline-p...</td>\n",
              "      <td>airline passengers tackle man who rushes cockp...</td>\n",
              "      <td>0</td>\n",
              "      <td>10</td>\n",
              "      <td>[airline, passenger, tackle, man, rush, cockpi...</td>\n",
              "      <td>[0, 0, 1, 0, 0, 0, 0, 0, 0, 0, 0, 0, 0, 0, 0, ...</td>\n",
              "    </tr>\n",
              "    <tr>\n",
              "      <th>100</th>\n",
              "      <td>https://www.huffingtonpost.com/entry/watch-dem...</td>\n",
              "      <td>demi lovato drops emotional 'nightingale' musi...</td>\n",
              "      <td>0</td>\n",
              "      <td>7</td>\n",
              "      <td>[demi, lovato, drop, emotional, nightingale, m...</td>\n",
              "      <td>[0, 0, 0, 0, 0, 0, 0, 0, 0, 0, 0, 0, 0, 0, 0, ...</td>\n",
              "    </tr>\n",
              "    <tr>\n",
              "      <th>1000</th>\n",
              "      <td>https://www.huffingtonpost.com/entry/californi...</td>\n",
              "      <td>california marijuana businesses get their firs...</td>\n",
              "      <td>0</td>\n",
              "      <td>8</td>\n",
              "      <td>[california, marijuana, business, get, first, ...</td>\n",
              "      <td>[0, 0, 0, 0, 0, 0, 0, 0, 0, 1, 0, 0, 0, 0, 0, ...</td>\n",
              "    </tr>\n",
              "  </tbody>\n",
              "</table>\n",
              "</div>"
            ],
            "text/plain": [
              "                                           article_link  ...                                       bag of words\n",
              "0     https://www.huffingtonpost.com/entry/versace-b...  ...  [0, 0, 0, 0, 0, 0, 0, 0, 0, 0, 0, 0, 0, 0, 0, ...\n",
              "1     https://www.huffingtonpost.com/entry/roseanne-...  ...  [0, 0, 0, 0, 0, 0, 0, 0, 0, 0, 0, 0, 0, 0, 0, ...\n",
              "10    https://www.huffingtonpost.com/entry/airline-p...  ...  [0, 0, 1, 0, 0, 0, 0, 0, 0, 0, 0, 0, 0, 0, 0, ...\n",
              "100   https://www.huffingtonpost.com/entry/watch-dem...  ...  [0, 0, 0, 0, 0, 0, 0, 0, 0, 0, 0, 0, 0, 0, 0, ...\n",
              "1000  https://www.huffingtonpost.com/entry/californi...  ...  [0, 0, 0, 0, 0, 0, 0, 0, 0, 1, 0, 0, 0, 0, 0, ...\n",
              "\n",
              "[5 rows x 6 columns]"
            ]
          },
          "metadata": {
            "tags": []
          },
          "execution_count": 57
        }
      ]
    },
    {
      "cell_type": "markdown",
      "metadata": {
        "id": "8UZuOQz3yFNC",
        "colab_type": "text"
      },
      "source": [
        "## EXECUTE FROM HERE"
      ]
    },
    {
      "cell_type": "code",
      "metadata": {
        "id": "YzGcTasuyAS8",
        "colab_type": "code",
        "outputId": "1c9f4cc0-c4a2-477c-8d30-7d635e3d5870",
        "colab": {
          "base_uri": "https://localhost:8080/",
          "height": 56
        }
      },
      "source": [
        "from google.colab import drive\n",
        "drive.mount('/content/gdrive')"
      ],
      "execution_count": 0,
      "outputs": [
        {
          "output_type": "stream",
          "text": [
            "Drive already mounted at /content/gdrive; to attempt to forcibly remount, call drive.mount(\"/content/gdrive\", force_remount=True).\n"
          ],
          "name": "stdout"
        }
      ]
    },
    {
      "cell_type": "code",
      "metadata": {
        "id": "lA0DGFwDyA7z",
        "colab_type": "code",
        "outputId": "b850a740-f2fd-4776-b21d-61acd222c7a4",
        "colab": {
          "base_uri": "https://localhost:8080/",
          "height": 148
        }
      },
      "source": [
        "!ls '/content/gdrive/My Drive'\n",
        "path = '/content/gdrive/My Drive/'"
      ],
      "execution_count": 0,
      "outputs": [
        {
          "output_type": "stream",
          "text": [
            "'Colab Notebooks'\t\t   'Mapa super guay de Laura_Buena.gmap'\n",
            "'Copia de FinalProjectLSMA.ipynb'   Monedas.gmap\n",
            "'EMPRESAS .gsheet'\t\t    Plantilla_COA.docx\n",
            " finaldata3000.json\t\t    Plantilla_COA.gdoc\n",
            " finaldata5000.json\t\t    Sarcasm_Headlines_Dataset.json\n",
            " Homework3.R\t\t\t   'Trabajo Final'\n",
            " LSMA\n"
          ],
          "name": "stdout"
        }
      ]
    },
    {
      "cell_type": "code",
      "metadata": {
        "id": "YQjRByr7spYV",
        "colab_type": "code",
        "colab": {}
      },
      "source": [
        "from sklearn.model_selection import train_test_split\n",
        "import pandas as pd\n",
        "import pickle\n",
        "import numpy as np\n",
        "df2= pd.read_json(path+'finaldata5000.json')\n",
        "\n",
        "X=df2['bag of words'].values\n",
        "Y=df2['is_sarcastic'].values\n",
        "X = np.asarray(list(X))\n",
        "Y = np.asarray(list(Y))"
      ],
      "execution_count": 0,
      "outputs": []
    },
    {
      "cell_type": "code",
      "metadata": {
        "id": "6anahFZoQkSC",
        "colab_type": "code",
        "colab": {}
      },
      "source": [
        "suma=np.sum(X,1)\n",
        "Y = Y[suma!=0]\n",
        "X = X[suma!=0,:]"
      ],
      "execution_count": 0,
      "outputs": []
    },
    {
      "cell_type": "markdown",
      "metadata": {
        "id": "8TcVw-Xzspl3",
        "colab_type": "text"
      },
      "source": [
        "## Split data"
      ]
    },
    {
      "cell_type": "code",
      "metadata": {
        "id": "AGnb-7tSYBR9",
        "colab_type": "code",
        "colab": {}
      },
      "source": [
        "X_train,X_test,Y_train,Y_test = train_test_split(X,Y,test_size=0.3,random_state=0)"
      ],
      "execution_count": 0,
      "outputs": []
    },
    {
      "cell_type": "code",
      "metadata": {
        "id": "qxH3LOUvjh_n",
        "colab_type": "code",
        "outputId": "37ffd3ba-345b-4a1e-cdce-5bc9c7627634",
        "colab": {
          "base_uri": "https://localhost:8080/",
          "height": 36
        }
      },
      "source": [
        "print(X_train.shape,X_test.shape)"
      ],
      "execution_count": 0,
      "outputs": [
        {
          "output_type": "stream",
          "text": [
            "(18650, 5445) (7994, 5445)\n"
          ],
          "name": "stdout"
        }
      ]
    },
    {
      "cell_type": "code",
      "metadata": {
        "id": "Y-ma3l79BXyx",
        "colab_type": "code",
        "outputId": "86b71c4b-961e-45ed-a305-6d9d417da3e5",
        "colab": {
          "base_uri": "https://localhost:8080/",
          "height": 36
        }
      },
      "source": [
        "print(Y_train.shape,Y_test.shape)"
      ],
      "execution_count": 0,
      "outputs": [
        {
          "output_type": "stream",
          "text": [
            "(18650,) (7994,)\n"
          ],
          "name": "stdout"
        }
      ]
    },
    {
      "cell_type": "code",
      "metadata": {
        "id": "Xf95CM970UR_",
        "colab_type": "code",
        "colab": {}
      },
      "source": [
        "from scipy.sparse import csr_matrix\n",
        "\n",
        "X_train=csr_matrix(X_train).toarray()\n",
        "X_test=csr_matrix(X_test).toarray()"
      ],
      "execution_count": 0,
      "outputs": []
    },
    {
      "cell_type": "code",
      "metadata": {
        "id": "pokAnG3GjSxj",
        "colab_type": "code",
        "outputId": "fe73c3ce-9524-4ccf-93be-9cab6d501854",
        "colab": {
          "base_uri": "https://localhost:8080/",
          "height": 36
        }
      },
      "source": [
        "X_train.shape"
      ],
      "execution_count": 0,
      "outputs": [
        {
          "output_type": "execute_result",
          "data": {
            "text/plain": [
              "(18650, 5445)"
            ]
          },
          "metadata": {
            "tags": []
          },
          "execution_count": 12
        }
      ]
    },
    {
      "cell_type": "code",
      "metadata": {
        "id": "nwEGKliJqMDD",
        "colab_type": "code",
        "outputId": "49f704dc-0c16-4ef5-91c7-4bd7e012dd36",
        "colab": {
          "base_uri": "https://localhost:8080/",
          "height": 36
        }
      },
      "source": [
        "X_test.shape"
      ],
      "execution_count": 0,
      "outputs": [
        {
          "output_type": "execute_result",
          "data": {
            "text/plain": [
              "(7994, 5445)"
            ]
          },
          "metadata": {
            "tags": []
          },
          "execution_count": 13
        }
      ]
    },
    {
      "cell_type": "code",
      "metadata": {
        "id": "SziGlpbFvqS3",
        "colab_type": "code",
        "colab": {}
      },
      "source": [
        "#X_train=[ast.literal_eval(x)for x in X_train]\n",
        "for liste in X_train:\n",
        "  if len(liste)!= len(X_train[0]):\n",
        "    print ('error')\n"
      ],
      "execution_count": 0,
      "outputs": []
    },
    {
      "cell_type": "markdown",
      "metadata": {
        "id": "3j_09ZOJvRo0",
        "colab_type": "text"
      },
      "source": [
        "## Defining the model"
      ]
    },
    {
      "cell_type": "code",
      "metadata": {
        "id": "Cyx8WZcJjr5h",
        "colab_type": "code",
        "colab": {}
      },
      "source": [
        "from sklearn.metrics import confusion_matrix as cm, classification_report\n",
        "import matplotlib.pyplot as plt\n",
        "import seaborn as sns\n",
        "def my_confusion_mat(Y_test, Y_pred,name,fig_name):\n",
        "        plt.figure()\n",
        "        # Sklearn normalized example\n",
        "        ConfM=cm(Y_test, Y_pred)\n",
        "        ConfM = ConfM.astype('float')/ ConfM.sum(axis=1)[:,np.newaxis]\n",
        "        np.set_printoptions(precision=2)\n",
        "        #plt.figure(figsize=[4,4])\n",
        "        ax2= plt.subplot()\n",
        "        sns.heatmap(ConfM, annot=True, ax = ax2); #annot=True to annotate cells\n",
        "        \n",
        "        ax2.set_xlabel('Predicted labels')\n",
        "        ax2.set_ylabel('True labels')\n",
        "        ax2.set_title('Confusion Matrix '+name)\n",
        "        \n",
        "        plt.savefig(fig_name, bbox_inches='tight')"
      ],
      "execution_count": 0,
      "outputs": []
    },
    {
      "cell_type": "markdown",
      "metadata": {
        "id": "jcQSRLFv-4hl",
        "colab_type": "text"
      },
      "source": [
        "### Logistic regression"
      ]
    },
    {
      "cell_type": "code",
      "metadata": {
        "id": "NZEffzpzvQ-w",
        "colab_type": "code",
        "outputId": "027186b2-cc54-448c-ab42-7236fa6aa409",
        "colab": {
          "base_uri": "https://localhost:8080/",
          "height": 74
        }
      },
      "source": [
        "# from sklearn.svm import SVC  \n",
        "# svclassifier = SVC(kernel='linear')  \n",
        "\n",
        "\"\"\"LOGISTIC REGRESSION\"\"\"\n",
        "from sklearn.linear_model import LogisticRegression\n",
        "model = LogisticRegression()\n",
        "model.fit(X_train, Y_train) \n",
        "  \n",
        "Y_pred=model.predict(X_test)"
      ],
      "execution_count": 0,
      "outputs": [
        {
          "output_type": "stream",
          "text": [
            "/usr/local/lib/python3.6/dist-packages/sklearn/linear_model/logistic.py:433: FutureWarning: Default solver will be changed to 'lbfgs' in 0.22. Specify a solver to silence this warning.\n",
            "  FutureWarning)\n"
          ],
          "name": "stderr"
        }
      ]
    },
    {
      "cell_type": "code",
      "metadata": {
        "id": "IAmhHwWa5wLg",
        "colab_type": "code",
        "colab": {}
      },
      "source": [
        "# save the model to disk\n",
        "# filename = 'svm_model_5000.sav'\n",
        "# pickle.dump(svclassifier, open(filename, 'wb'))\n",
        "# loaded_model = pickle.load(open(filename, 'rb'))"
      ],
      "execution_count": 0,
      "outputs": []
    },
    {
      "cell_type": "code",
      "metadata": {
        "id": "pSkQm6ahuq_a",
        "colab_type": "code",
        "outputId": "a154ff2d-197a-490d-8bb9-3bc307ea3809",
        "colab": {
          "base_uri": "https://localhost:8080/",
          "height": 204
        }
      },
      "source": [
        "print('Classification_report\\n',classification_report(Y_test,Y_pred))"
      ],
      "execution_count": 0,
      "outputs": [
        {
          "output_type": "stream",
          "text": [
            "Classification_report\n",
            "               precision    recall  f1-score   support\n",
            "\n",
            "           0       0.79      0.84      0.81      4471\n",
            "           1       0.78      0.71      0.74      3523\n",
            "\n",
            "   micro avg       0.78      0.78      0.78      7994\n",
            "   macro avg       0.78      0.78      0.78      7994\n",
            "weighted avg       0.78      0.78      0.78      7994\n",
            "\n"
          ],
          "name": "stdout"
        }
      ]
    },
    {
      "cell_type": "code",
      "metadata": {
        "id": "gQPWuFJJe0Iq",
        "colab_type": "code",
        "outputId": "ad9358f4-5931-4894-f2e6-365e4a652339",
        "colab": {
          "base_uri": "https://localhost:8080/",
          "height": 295
        }
      },
      "source": [
        "my_confusion_mat(Y_test, Y_pred,'Confusion Matrix SVM','conf_SVM')"
      ],
      "execution_count": 0,
      "outputs": [
        {
          "output_type": "display_data",
          "data": {
            "image/png": "[encoded data removed]",
            "text/plain": [
              "<Figure size 432x288 with 2 Axes>"
            ]
          },
          "metadata": {
            "tags": []
          }
        }
      ]
    },
    {
      "cell_type": "markdown",
      "metadata": {
        "id": "PE-9kfCqvKUs",
        "colab_type": "text"
      },
      "source": [
        "### Naive Bayes"
      ]
    },
    {
      "cell_type": "code",
      "metadata": {
        "id": "QoW7FCJ_vI6g",
        "colab_type": "code",
        "outputId": "f83649c3-7947-4496-bc18-31e7ca6e4cae",
        "colab": {
          "base_uri": "https://localhost:8080/",
          "height": 36
        }
      },
      "source": [
        "from sklearn.naive_bayes import BernoulliNB\n",
        "model = BernoulliNB()\n",
        "model.fit(X_train,Y_train)"
      ],
      "execution_count": 0,
      "outputs": [
        {
          "output_type": "execute_result",
          "data": {
            "text/plain": [
              "BernoulliNB(alpha=1.0, binarize=0.0, class_prior=None, fit_prior=True)"
            ]
          },
          "metadata": {
            "tags": []
          },
          "execution_count": 20
        }
      ]
    },
    {
      "cell_type": "code",
      "metadata": {
        "id": "KAmTnBkrvl0Y",
        "colab_type": "code",
        "colab": {}
      },
      "source": [
        "Y_pred=model.predict(X_test)"
      ],
      "execution_count": 0,
      "outputs": []
    },
    {
      "cell_type": "code",
      "metadata": {
        "id": "u2nR_j1UvfpI",
        "colab_type": "code",
        "outputId": "311704cd-24c4-483e-f484-ef4f3e1724a6",
        "colab": {
          "base_uri": "https://localhost:8080/",
          "height": 204
        }
      },
      "source": [
        "print('Classification_report\\n',classification_report(Y_test,Y_pred))"
      ],
      "execution_count": 0,
      "outputs": [
        {
          "output_type": "stream",
          "text": [
            "Classification_report\n",
            "               precision    recall  f1-score   support\n",
            "\n",
            "           0       0.79      0.83      0.81      4471\n",
            "           1       0.77      0.72      0.75      3523\n",
            "\n",
            "   micro avg       0.78      0.78      0.78      7994\n",
            "   macro avg       0.78      0.78      0.78      7994\n",
            "weighted avg       0.78      0.78      0.78      7994\n",
            "\n"
          ],
          "name": "stdout"
        }
      ]
    },
    {
      "cell_type": "code",
      "metadata": {
        "id": "_-Zf8Az5v1nn",
        "colab_type": "code",
        "outputId": "8017e6b1-8a11-4c2b-bbbf-a7cbd7ca6650",
        "colab": {
          "base_uri": "https://localhost:8080/",
          "height": 295
        }
      },
      "source": [
        "my_confusion_mat(Y_test, Y_pred,'Confusion Matrix SVM','conf_SVM')"
      ],
      "execution_count": 0,
      "outputs": [
        {
          "output_type": "display_data",
          "data": {
            "image/png": "[encoded data removed]",
            "text/plain": [
              "<Figure size 432x288 with 2 Axes>"
            ]
          },
          "metadata": {
            "tags": []
          }
        }
      ]
    },
    {
      "cell_type": "markdown",
      "metadata": {
        "colab_type": "text",
        "id": "vtv82G1f4IwK"
      },
      "source": [
        "### Unsupervised clustering: K-MEANS"
      ]
    },
    {
      "cell_type": "code",
      "metadata": {
        "colab_type": "code",
        "id": "f3LZcBde4Iwg",
        "colab": {}
      },
      "source": [
        "from sklearn.cluster import KMeans\n",
        "model = KMeans(n_clusters=2, random_state=0)\n",
        "Y_pred = model.fit_predict(X_test)\n"
      ],
      "execution_count": 0,
      "outputs": []
    },
    {
      "cell_type": "code",
      "metadata": {
        "colab_type": "code",
        "outputId": "a40ab2d2-2cd6-40f7-9391-1ef4f12d073e",
        "id": "BB57_Ddv4IxE",
        "colab": {
          "base_uri": "https://localhost:8080/",
          "height": 295
        }
      },
      "source": [
        "my_confusion_mat(Y_test, Y_pred,'Confusion Matrix SVM','conf_SVM')"
      ],
      "execution_count": 0,
      "outputs": [
        {
          "output_type": "display_data",
          "data": {
            "image/png": "[encoded data removed]",
            "text/plain": [
              "<Figure size 432x288 with 2 Axes>"
            ]
          },
          "metadata": {
            "tags": []
          }
        }
      ]
    },
    {
      "cell_type": "markdown",
      "metadata": {
        "id": "FVEbltFV6zYb",
        "colab_type": "text"
      },
      "source": [
        "PCA + Kmeans"
      ]
    },
    {
      "cell_type": "code",
      "metadata": {
        "id": "iwFHqRrW6yzb",
        "colab_type": "code",
        "colab": {}
      },
      "source": [
        "from sklearn.decomposition import PCA\n",
        "pca = PCA(n_components=2)\n",
        "pca.fit(X_test)  \n",
        "X_pca=pca.transform(X_test) "
      ],
      "execution_count": 0,
      "outputs": []
    },
    {
      "cell_type": "code",
      "metadata": {
        "id": "Lj-XX4OS6yWg",
        "colab_type": "code",
        "colab": {}
      },
      "source": [
        "from sklearn.cluster import KMeans\n",
        "model = KMeans(n_clusters=2, random_state=0)\n",
        "Y_pred = model.fit_predict(X_pca)"
      ],
      "execution_count": 0,
      "outputs": []
    },
    {
      "cell_type": "code",
      "metadata": {
        "id": "Ucq9RE4_8L7_",
        "colab_type": "code",
        "outputId": "0bdded10-45bd-4db7-e310-028846a6cae0",
        "colab": {
          "base_uri": "https://localhost:8080/",
          "height": 300
        }
      },
      "source": [
        "plt.subplot(121)\n",
        "plt.scatter(X_pca[:, 0], X_pca[:, 1], c=Y_test, alpha=0.6, s=0.8)\n",
        "plt.title('Real labels')\n",
        "plt.subplot(122)\n",
        "plt.scatter(X_pca[:, 0], X_pca[:, 1], c=1-Y_pred, alpha=0.6, s=0.8)\n",
        "plt.title('Predicted labels')"
      ],
      "execution_count": 0,
      "outputs": [
        {
          "output_type": "execute_result",
          "data": {
            "text/plain": [
              "Text(0.5, 1.0, 'Predicted labels')"
            ]
          },
          "metadata": {
            "tags": []
          },
          "execution_count": 33
        },
        {
          "output_type": "display_data",
          "data": {
            "image/png": "[encoded data removed]",
            "text/plain": [
              "<Figure size 432x288 with 2 Axes>"
            ]
          },
          "metadata": {
            "tags": []
          }
        }
      ]
    },
    {
      "cell_type": "code",
      "metadata": {
        "id": "nJ9jFh5y8wa_",
        "colab_type": "code",
        "outputId": "17494f33-8c6e-4bb7-82e6-09f17484adfd",
        "colab": {
          "base_uri": "https://localhost:8080/",
          "height": 295
        }
      },
      "source": [
        "my_confusion_mat(Y_test, 1-Y_pred,'Confusion Matrix SVM','conf_SVM')"
      ],
      "execution_count": 0,
      "outputs": [
        {
          "output_type": "display_data",
          "data": {
            "image/png": "[encoded data removed]",
            "text/plain": [
              "<Figure size 432x288 with 2 Axes>"
            ]
          },
          "metadata": {
            "tags": []
          }
        }
      ]
    }
  ]
}